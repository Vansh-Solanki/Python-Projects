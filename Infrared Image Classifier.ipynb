{
 "cells": [
  {
   "cell_type": "code",
   "execution_count": 1,
   "id": "11b97f8c",
   "metadata": {},
   "outputs": [
    {
     "name": "stderr",
     "output_type": "stream",
     "text": [
      "C:\\Users\\Vansh\\anaconda3\\lib\\site-packages\\scipy\\__init__.py:146: UserWarning: A NumPy version >=1.16.5 and <1.23.0 is required for this version of SciPy (detected version 1.26.2\n",
      "  warnings.warn(f\"A NumPy version >={np_minversion} and <{np_maxversion}\"\n"
     ]
    }
   ],
   "source": [
    "import os\n",
    "import cv2\n",
    "import numpy as np\n",
    "from sklearn.model_selection import train_test_split\n",
    "from sklearn.svm import SVC\n",
    "from sklearn.naive_bayes import GaussianNB\n",
    "from sklearn.metrics import accuracy_score"
   ]
  },
  {
   "cell_type": "code",
   "execution_count": 2,
   "id": "c33b1ad9",
   "metadata": {},
   "outputs": [],
   "source": [
    "dataset_path = \"C:\\Code\\Infrared\\Model\""
   ]
  },
  {
   "cell_type": "code",
   "execution_count": 3,
   "id": "895425fc",
   "metadata": {},
   "outputs": [],
   "source": [
    "def load_dataset():\n",
    "    images = []\n",
    "    labels = []\n",
    "    \n",
    "    for root, dirs, files in os.walk(dataset_path):\n",
    "        for file in files:\n",
    "            image_path = os.path.join(root, file)\n",
    "            label = os.path.basename(root)\n",
    "            image = cv2.imread(image_path, cv2.IMREAD_GRAYSCALE)\n",
    "            image = cv2.resize(image, (64, 64)) \n",
    "            image = image.flatten()\n",
    "            images.append(image)\n",
    "            labels.append(label)\n",
    "    images = np.array(images)\n",
    "    labels = np.array(labels)\n",
    "    return images, labels"
   ]
  },
  {
   "cell_type": "code",
   "execution_count": 4,
   "id": "e923362e",
   "metadata": {},
   "outputs": [],
   "source": [
    "images, labels = load_dataset()"
   ]
  },
  {
   "cell_type": "code",
   "execution_count": 5,
   "id": "d967786b",
   "metadata": {},
   "outputs": [
    {
     "name": "stdout",
     "output_type": "stream",
     "text": [
      "[[255 255 255 ... 255 255 255]\n",
      " [ 48  48  49 ... 142 144 144]\n",
      " [ 36  36  36 ...  10  10  10]\n",
      " ...\n",
      " [255 255 255 ... 255 255 255]\n",
      " [  0   0   0 ...   0   0   0]\n",
      " [255 255 255 ... 255 255 255]]\n",
      "['Dataset' 'Dataset' 'Dataset' 'Dataset' 'Dataset' 'Dataset' 'Dataset'\n",
      " 'Dataset' 'Dataset' 'Dataset' 'Dataset' 'Dataset' 'Dataset' 'Dataset'\n",
      " 'Dataset' 'Dataset' 'Dataset' 'Dataset' 'Dataset' 'Dataset' 'Dataset'\n",
      " 'Dataset' 'Dataset' 'Dataset' 'Dataset' 'Testing Images' 'Testing Images'\n",
      " 'Testing Images' 'Testing Images' 'Testing Images' 'Testing Images'\n",
      " 'Testing Images' 'Testing Images' 'Testing Images' 'Testing Images'\n",
      " 'Testing Images' 'Testing Images' 'Testing Images' 'Testing Images'\n",
      " 'Testing Images' 'Testing Images' 'Testing Images' 'Testing Images'\n",
      " 'Testing Images' 'Testing Images']\n"
     ]
    }
   ],
   "source": [
    "print(images)\n",
    "print(labels)"
   ]
  },
  {
   "cell_type": "code",
   "execution_count": 6,
   "id": "8af6de2b",
   "metadata": {},
   "outputs": [],
   "source": [
    "X_train, X_test, y_train, y_test = train_test_split(images, labels, test_size=0.15, random_state=50)                     "
   ]
  },
  {
   "cell_type": "code",
   "execution_count": 7,
   "id": "bd401ab1",
   "metadata": {},
   "outputs": [
    {
     "data": {
      "text/plain": [
       "GaussianNB()"
      ]
     },
     "execution_count": 7,
     "metadata": {},
     "output_type": "execute_result"
    }
   ],
   "source": [
    "gnb = GaussianNB()\n",
    "gnb.fit(X_train, y_train)"
   ]
  },
  {
   "cell_type": "code",
   "execution_count": 8,
   "id": "dd29a26b",
   "metadata": {},
   "outputs": [],
   "source": [
    "y_pred = gnb.predict(X_test)"
   ]
  },
  {
   "cell_type": "code",
   "execution_count": 9,
   "id": "d999f01e",
   "metadata": {},
   "outputs": [
    {
     "name": "stdout",
     "output_type": "stream",
     "text": [
      "Gaussian Naive Bayes model accuracy(in %): 85.71428571428571\n"
     ]
    }
   ],
   "source": [
    "from sklearn import metrics\n",
    "print(\"Gaussian Naive Bayes model accuracy(in %):\",metrics.accuracy_score(y_test, y_pred)*100)"
   ]
  },
  {
   "cell_type": "code",
   "execution_count": null,
   "id": "93e37640",
   "metadata": {},
   "outputs": [],
   "source": []
  }
 ],
 "metadata": {
  "kernelspec": {
   "display_name": "Python 3 (ipykernel)",
   "language": "python",
   "name": "python3"
  },
  "language_info": {
   "codemirror_mode": {
    "name": "ipython",
    "version": 3
   },
   "file_extension": ".py",
   "mimetype": "text/x-python",
   "name": "python",
   "nbconvert_exporter": "python",
   "pygments_lexer": "ipython3",
   "version": "3.9.7"
  }
 },
 "nbformat": 4,
 "nbformat_minor": 5
}
