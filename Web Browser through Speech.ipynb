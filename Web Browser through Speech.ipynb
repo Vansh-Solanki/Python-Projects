{
 "cells": [
  {
   "cell_type": "code",
   "execution_count": 1,
   "id": "a944d9e8",
   "metadata": {},
   "outputs": [],
   "source": [
    "import speech_recognition as sr\n",
    "import webbrowser as web"
   ]
  },
  {
   "cell_type": "code",
   "execution_count": 4,
   "id": "40e102ca",
   "metadata": {},
   "outputs": [
    {
     "name": "stdout",
     "output_type": "stream",
     "text": [
      "Say Something!\n",
      "Processing! \n",
      "result2:\n",
      "{   'alternative': [   {   'confidence': 0.88687539,\n",
      "                           'transcript': 'www.youtube.com'}],\n",
      "    'final': True}\n",
      "You Said: www.youtube.com\n"
     ]
    }
   ],
   "source": [
    " if __name__ == \"__main__\":\n",
    "    path=\"C:/Program Files/Google/Chrome/Application/chrome.exe %s\"\n",
    "    \n",
    "    recog=sr.Recognizer()\n",
    "    with sr.Microphone() as m:\n",
    "        recog.adjust_for_ambient_noise(m)\n",
    "        print(\"Say Something!\")\n",
    "    \n",
    "        audio=recog.listen(m)\n",
    "        print(\"Processing! \")\n",
    "    \n",
    "        try:\n",
    "            dest=recog.recognize_google(audio)\n",
    "            print(\"You Said: \" + dest)\n",
    "            web.get(path).open(dest)\n",
    "        except Exception as e:\n",
    "            print(\"Error: \" + str(e))"
   ]
  },
  {
   "cell_type": "code",
   "execution_count": null,
   "id": "92371021",
   "metadata": {},
   "outputs": [],
   "source": []
  }
 ],
 "metadata": {
  "kernelspec": {
   "display_name": "Python 3 (ipykernel)",
   "language": "python",
   "name": "python3"
  },
  "language_info": {
   "codemirror_mode": {
    "name": "ipython",
    "version": 3
   },
   "file_extension": ".py",
   "mimetype": "text/x-python",
   "name": "python",
   "nbconvert_exporter": "python",
   "pygments_lexer": "ipython3",
   "version": "3.9.7"
  }
 },
 "nbformat": 4,
 "nbformat_minor": 5
}
