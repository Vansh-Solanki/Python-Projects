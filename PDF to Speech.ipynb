{
 "cells": [
  {
   "cell_type": "code",
   "execution_count": 1,
   "id": "4fbeab43",
   "metadata": {},
   "outputs": [],
   "source": [
    "import pyttsx3"
   ]
  },
  {
   "cell_type": "code",
   "execution_count": 2,
   "id": "517ac663",
   "metadata": {},
   "outputs": [
    {
     "name": "stdout",
     "output_type": "stream",
     "text": [
      "Requirement already satisfied: pypdf2 in c:\\users\\vansh\\anaconda3\\lib\\site-packages (3.0.1)\n",
      "Requirement already satisfied: typing_extensions>=3.10.0.0 in c:\\users\\vansh\\anaconda3\\lib\\site-packages (from pypdf2) (3.10.0.2)\n",
      "Note: you may need to restart the kernel to use updated packages.\n"
     ]
    }
   ],
   "source": [
    "pip install pypdf2"
   ]
  },
  {
   "cell_type": "code",
   "execution_count": 3,
   "id": "012e10c8",
   "metadata": {},
   "outputs": [],
   "source": [
    "import PyPDF2"
   ]
  },
  {
   "cell_type": "code",
   "execution_count": 4,
   "id": "c43100fe",
   "metadata": {},
   "outputs": [],
   "source": [
    "book=open(r\"C:\\Users\\Vansh\\Desktop\\Vansh TSEC\\TSEC 3rd Year Sem 6\\Data Analytics & Visualization\\Module 1 Notes.pdf\",'rb')\n",
    "#rb=read only in binary format"
   ]
  },
  {
   "cell_type": "code",
   "execution_count": 7,
   "id": "1b51d9bc",
   "metadata": {
    "scrolled": true
   },
   "outputs": [],
   "source": [
    "reading=PyPDF2.PdfReader(book)\n",
    "page=reading.pages[0]"
   ]
  },
  {
   "cell_type": "code",
   "execution_count": 11,
   "id": "3860e033",
   "metadata": {},
   "outputs": [
    {
     "name": "stderr",
     "output_type": "stream",
     "text": [
      "Exception ignored in: <function BSTR.__del__ at 0x000001B038938940>\n",
      "Traceback (most recent call last):\n",
      "  File \"C:\\Users\\Vansh\\anaconda3\\lib\\site-packages\\comtypes\\__init__.py\", line 999, in __del__\n",
      "    def __del__(self, _free=windll.oleaut32.SysFreeString):\n",
      "KeyboardInterrupt: \n"
     ]
    }
   ],
   "source": [
    "text=page.extract_text()\n",
    "speaker=pyttsx3.init()\n",
    "choose_page=reading.get_page_number\n",
    "speaker.say(text)\n",
    "speaker.runAndWait()"
   ]
  },
  {
   "cell_type": "code",
   "execution_count": null,
   "id": "024046ea",
   "metadata": {},
   "outputs": [],
   "source": []
  }
 ],
 "metadata": {
  "kernelspec": {
   "display_name": "Python 3 (ipykernel)",
   "language": "python",
   "name": "python3"
  },
  "language_info": {
   "codemirror_mode": {
    "name": "ipython",
    "version": 3
   },
   "file_extension": ".py",
   "mimetype": "text/x-python",
   "name": "python",
   "nbconvert_exporter": "python",
   "pygments_lexer": "ipython3",
   "version": "3.9.7"
  }
 },
 "nbformat": 4,
 "nbformat_minor": 5
}
