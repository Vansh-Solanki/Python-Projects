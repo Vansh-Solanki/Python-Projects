{
 "cells": [
  {
   "cell_type": "code",
   "execution_count": 1,
   "id": "0913c297",
   "metadata": {},
   "outputs": [],
   "source": [
    "import numpy as np\n",
    "import cv2\n",
    "import face_recognition\n",
    "import os\n",
    "from datetime import datetime"
   ]
  },
  {
   "cell_type": "code",
   "execution_count": 2,
   "id": "6b1bb125",
   "metadata": {},
   "outputs": [
    {
     "name": "stdout",
     "output_type": "stream",
     "text": [
      "['Jitendra.jpg', 'Kalpana.jpg', 'Vansh.jpg', 'Yash.jpg']\n"
     ]
    }
   ],
   "source": [
    "path='C:\\Code\\Face Verification\\Testing'\n",
    "images=[]\n",
    "classNames=[]\n",
    "myList=os.listdir(path)\n",
    "print(myList)"
   ]
  },
  {
   "cell_type": "code",
   "execution_count": 3,
   "id": "48b8d669",
   "metadata": {},
   "outputs": [
    {
     "name": "stdout",
     "output_type": "stream",
     "text": [
      "['Jitendra', 'Kalpana', 'Vansh', 'Yash']\n"
     ]
    }
   ],
   "source": [
    "for cls in myList:\n",
    "    curImg=cv2.imread(f'{path}/{cls}')\n",
    "    images.append(curImg)\n",
    "    classNames.append(os.path.splitext(cls)[0])\n",
    "print(classNames)"
   ]
  },
  {
   "cell_type": "code",
   "execution_count": null,
   "id": "47b79428",
   "metadata": {},
   "outputs": [
    {
     "name": "stdout",
     "output_type": "stream",
     "text": [
      "Encoding Complete\n"
     ]
    }
   ],
   "source": [
    "def findEncoding(images):\n",
    "    encodelist=[]\n",
    "    for img in images:\n",
    "        img=cv2.cvtColor(img,cv2.COLOR_BGR2RGB)\n",
    "        encode=face_recognition.face_encodings(img)[0]\n",
    "        encodelist.append(encode)\n",
    "    return encodelist\n",
    "\n",
    "encodeListKnown=findEncoding(images)\n",
    "print(\"Encoding Complete\")\n",
    "\n",
    "cap=cv2.VideoCapture(0)\n",
    "while True:\n",
    "    success,img=cap.read()\n",
    "    imgSmall=cv2.resize(img,(0,0),None,0.25,0.25)\n",
    "    imgSmall=cv2.cvtColor(imgSmall,cv2.COLOR_BGR2RGB)\n",
    "    \n",
    "    facesCurFrame=face_recognition.face_locations(imgSmall)\n",
    "    encodeCurFrame=face_recognition.face_encodings(imgSmall,facesCurFrame)\n",
    "    \n",
    "    for encodeFace,faceLoc in zip(encodeCurFrame,facesCurFrame):\n",
    "        matches=face_recognition.compare_faces(encodeListKnown,encodeFace)\n",
    "        faceDist=face_recognition.face_distance(encodeListKnown,encodeFace)\n",
    "#         print(faceDist)\n",
    "        matchIndex=np.argmin(faceDist)\n",
    "        \n",
    "        if matches[matchIndex]:\n",
    "            name=classNames[matchIndex].upper()\n",
    "#             print(name)\n",
    "            y1,x2,y2,x1=faceLoc\n",
    "            y1,x2,y2,x1=y1*4,x2*4,y2*4,x1*4\n",
    "            cv2.rectangle(img,(x1,y1),(x2,y2),(0,255,0),2)\n",
    "            cv2.rectangle(img,(x1,y2-35),(x2,y2),(0,255,0),cv2.FILLED)\n",
    "            cv2.putText(img,name,(x1+6,y2-6),cv2.FONT_HERSHEY_PLAIN,1,(255,255,255),2)\n",
    "            \n",
    "    cv2.imshow(\"Webcam\",img)\n",
    "    cv2.waitKey(1)"
   ]
  },
  {
   "cell_type": "code",
   "execution_count": null,
   "id": "a914530e",
   "metadata": {},
   "outputs": [],
   "source": []
  }
 ],
 "metadata": {
  "kernelspec": {
   "display_name": "Python 3 (ipykernel)",
   "language": "python",
   "name": "python3"
  },
  "language_info": {
   "codemirror_mode": {
    "name": "ipython",
    "version": 3
   },
   "file_extension": ".py",
   "mimetype": "text/x-python",
   "name": "python",
   "nbconvert_exporter": "python",
   "pygments_lexer": "ipython3",
   "version": "3.9.7"
  }
 },
 "nbformat": 4,
 "nbformat_minor": 5
}
