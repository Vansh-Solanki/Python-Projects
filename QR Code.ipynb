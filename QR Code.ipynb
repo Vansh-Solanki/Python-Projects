{
 "cells": [
  {
   "cell_type": "code",
   "execution_count": 1,
   "id": "1e91ab47",
   "metadata": {},
   "outputs": [],
   "source": [
    "import qrcode\n",
    "import cv2"
   ]
  },
  {
   "cell_type": "code",
   "execution_count": 2,
   "id": "35a5f306",
   "metadata": {},
   "outputs": [],
   "source": [
    "features=qrcode.QRCode(version=1,box_size=40,border=5)\n",
    "features.add_data(\"https://github.com/Vansh-Solanki/Python-Projects\")\n",
    "features.make(fit=True)"
   ]
  },
  {
   "cell_type": "code",
   "execution_count": 3,
   "id": "71448638",
   "metadata": {},
   "outputs": [],
   "source": [
    "generate_image=features.make_image(fill_color=\"black\",back_color=\"white\")\n",
    "generate_image.save('QR.jpeg')"
   ]
  },
  {
   "cell_type": "code",
   "execution_count": 4,
   "id": "3d43b9a2",
   "metadata": {},
   "outputs": [
    {
     "name": "stdout",
     "output_type": "stream",
     "text": [
      "https://github.com/Vansh-Solanki/Python-Projects\n"
     ]
    }
   ],
   "source": [
    "d=cv2.QRCodeDetector()\n",
    "val,points,straight_qrcode=d.detectAndDecode(cv2.imread(\"QR.jpeg\"))\n",
    "print(val)"
   ]
  },
  {
   "cell_type": "code",
   "execution_count": null,
   "id": "54338618",
   "metadata": {},
   "outputs": [],
   "source": []
  }
 ],
 "metadata": {
  "kernelspec": {
   "display_name": "Python 3 (ipykernel)",
   "language": "python",
   "name": "python3"
  },
  "language_info": {
   "codemirror_mode": {
    "name": "ipython",
    "version": 3
   },
   "file_extension": ".py",
   "mimetype": "text/x-python",
   "name": "python",
   "nbconvert_exporter": "python",
   "pygments_lexer": "ipython3",
   "version": "3.9.7"
  }
 },
 "nbformat": 4,
 "nbformat_minor": 5
}
