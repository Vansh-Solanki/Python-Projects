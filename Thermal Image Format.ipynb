{
 "cells": [
  {
   "cell_type": "code",
   "execution_count": 1,
   "id": "ace0abdb",
   "metadata": {},
   "outputs": [],
   "source": [
    "import numpy as np\n",
    "import cv2"
   ]
  },
  {
   "cell_type": "code",
   "execution_count": 2,
   "id": "838ae5a8",
   "metadata": {},
   "outputs": [],
   "source": [
    "lighter=cv2.imread(\"C:\\Code\\Infrared\\Model\\Testing Images\\download.jfif\")"
   ]
  },
  {
   "cell_type": "code",
   "execution_count": 3,
   "id": "7b88d1ec",
   "metadata": {},
   "outputs": [],
   "source": [
    "gray8=np.zeros((120,160),dtype=np.uint8)\n",
    "gray8=cv2.normalize(lighter,gray8,0,255,cv2.NORM_MINMAX)"
   ]
  },
  {
   "cell_type": "code",
   "execution_count": 7,
   "id": "339b073d",
   "metadata": {},
   "outputs": [],
   "source": [
    "inferno_palette=cv2.applyColorMap(gray8,cv2.COLORMAP_INFERNO)\n",
    "jet_palette=cv2.applyColorMap(gray8,cv2.COLORMAP_JET)\n",
    "viridis_palette=cv2.applyColorMap(gray8,cv2.COLORMAP_VIRIDIS)"
   ]
  },
  {
   "cell_type": "code",
   "execution_count": 10,
   "id": "1b714f66",
   "metadata": {},
   "outputs": [
    {
     "data": {
      "text/plain": [
       "27"
      ]
     },
     "execution_count": 10,
     "metadata": {},
     "output_type": "execute_result"
    }
   ],
   "source": [
    "cv2.imshow(\"Grayscale\",gray8)\n",
    "cv2.imshow(\"Inferno\",inferno_palette)\n",
    "cv2.imshow(\"Jet\",jet_palette)\n",
    "cv2.imshow(\"Viridis\",viridis_palette)\n",
    "cv2.waitKey(0)"
   ]
  },
  {
   "cell_type": "code",
   "execution_count": null,
   "id": "05ec5dd7",
   "metadata": {},
   "outputs": [],
   "source": []
  }
 ],
 "metadata": {
  "kernelspec": {
   "display_name": "Python 3 (ipykernel)",
   "language": "python",
   "name": "python3"
  },
  "language_info": {
   "codemirror_mode": {
    "name": "ipython",
    "version": 3
   },
   "file_extension": ".py",
   "mimetype": "text/x-python",
   "name": "python",
   "nbconvert_exporter": "python",
   "pygments_lexer": "ipython3",
   "version": "3.9.7"
  }
 },
 "nbformat": 4,
 "nbformat_minor": 5
}
